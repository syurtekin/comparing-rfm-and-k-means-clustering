{
 "cells": [
  {
   "cell_type": "code",
   "execution_count": 1,
   "id": "sunrise-hardware",
   "metadata": {
    "execution": {
     "iopub.execute_input": "2021-07-28T13:36:27.165713Z",
     "iopub.status.busy": "2021-07-28T13:36:27.165010Z",
     "iopub.status.idle": "2021-07-28T13:38:21.435103Z",
     "shell.execute_reply": "2021-07-28T13:38:21.435554Z",
     "shell.execute_reply.started": "2021-07-28T13:10:39.469246Z"
    },
    "papermill": {
     "duration": 114.316944,
     "end_time": "2021-07-28T13:38:21.435888",
     "exception": false,
     "start_time": "2021-07-28T13:36:27.118944",
     "status": "completed"
    },
    "tags": []
   },
   "outputs": [
    {
     "name": "stdout",
     "output_type": "stream",
     "text": [
      "Collecting openpyxl\r\n",
      "  Downloading openpyxl-3.0.7-py2.py3-none-any.whl (243 kB)\r\n",
      "\u001b[K     |████████████████████████████████| 243 kB 822 kB/s \r\n",
      "\u001b[?25hCollecting et-xmlfile\r\n",
      "  Downloading et_xmlfile-1.1.0-py3-none-any.whl (4.7 kB)\r\n",
      "Installing collected packages: et-xmlfile, openpyxl\r\n",
      "Successfully installed et-xmlfile-1.1.0 openpyxl-3.0.7\r\n"
     ]
    },
    {
     "data": {
      "text/html": [
       "<div>\n",
       "<style scoped>\n",
       "    .dataframe tbody tr th:only-of-type {\n",
       "        vertical-align: middle;\n",
       "    }\n",
       "\n",
       "    .dataframe tbody tr th {\n",
       "        vertical-align: top;\n",
       "    }\n",
       "\n",
       "    .dataframe thead th {\n",
       "        text-align: right;\n",
       "    }\n",
       "</style>\n",
       "<table border=\"1\" class=\"dataframe\">\n",
       "  <thead>\n",
       "    <tr style=\"text-align: right;\">\n",
       "      <th></th>\n",
       "      <th>Invoice</th>\n",
       "      <th>StockCode</th>\n",
       "      <th>Description</th>\n",
       "      <th>Quantity</th>\n",
       "      <th>InvoiceDate</th>\n",
       "      <th>Price</th>\n",
       "      <th>Customer ID</th>\n",
       "      <th>Country</th>\n",
       "    </tr>\n",
       "  </thead>\n",
       "  <tbody>\n",
       "    <tr>\n",
       "      <th>0</th>\n",
       "      <td>536365</td>\n",
       "      <td>85123A</td>\n",
       "      <td>WHITE HANGING HEART T-LIGHT HOLDER</td>\n",
       "      <td>6</td>\n",
       "      <td>2010-12-01 08:26:00</td>\n",
       "      <td>2.55</td>\n",
       "      <td>17850.00</td>\n",
       "      <td>United Kingdom</td>\n",
       "    </tr>\n",
       "    <tr>\n",
       "      <th>1</th>\n",
       "      <td>536365</td>\n",
       "      <td>71053</td>\n",
       "      <td>WHITE METAL LANTERN</td>\n",
       "      <td>6</td>\n",
       "      <td>2010-12-01 08:26:00</td>\n",
       "      <td>3.39</td>\n",
       "      <td>17850.00</td>\n",
       "      <td>United Kingdom</td>\n",
       "    </tr>\n",
       "    <tr>\n",
       "      <th>2</th>\n",
       "      <td>536365</td>\n",
       "      <td>84406B</td>\n",
       "      <td>CREAM CUPID HEARTS COAT HANGER</td>\n",
       "      <td>8</td>\n",
       "      <td>2010-12-01 08:26:00</td>\n",
       "      <td>2.75</td>\n",
       "      <td>17850.00</td>\n",
       "      <td>United Kingdom</td>\n",
       "    </tr>\n",
       "    <tr>\n",
       "      <th>3</th>\n",
       "      <td>536365</td>\n",
       "      <td>84029G</td>\n",
       "      <td>KNITTED UNION FLAG HOT WATER BOTTLE</td>\n",
       "      <td>6</td>\n",
       "      <td>2010-12-01 08:26:00</td>\n",
       "      <td>3.39</td>\n",
       "      <td>17850.00</td>\n",
       "      <td>United Kingdom</td>\n",
       "    </tr>\n",
       "    <tr>\n",
       "      <th>4</th>\n",
       "      <td>536365</td>\n",
       "      <td>84029E</td>\n",
       "      <td>RED WOOLLY HOTTIE WHITE HEART.</td>\n",
       "      <td>6</td>\n",
       "      <td>2010-12-01 08:26:00</td>\n",
       "      <td>3.39</td>\n",
       "      <td>17850.00</td>\n",
       "      <td>United Kingdom</td>\n",
       "    </tr>\n",
       "  </tbody>\n",
       "</table>\n",
       "</div>"
      ],
      "text/plain": [
       "  Invoice StockCode                          Description  Quantity  \\\n",
       "0  536365    85123A   WHITE HANGING HEART T-LIGHT HOLDER         6   \n",
       "1  536365     71053                  WHITE METAL LANTERN         6   \n",
       "2  536365    84406B       CREAM CUPID HEARTS COAT HANGER         8   \n",
       "3  536365    84029G  KNITTED UNION FLAG HOT WATER BOTTLE         6   \n",
       "4  536365    84029E       RED WOOLLY HOTTIE WHITE HEART.         6   \n",
       "\n",
       "          InvoiceDate  Price  Customer ID         Country  \n",
       "0 2010-12-01 08:26:00   2.55     17850.00  United Kingdom  \n",
       "1 2010-12-01 08:26:00   3.39     17850.00  United Kingdom  \n",
       "2 2010-12-01 08:26:00   2.75     17850.00  United Kingdom  \n",
       "3 2010-12-01 08:26:00   3.39     17850.00  United Kingdom  \n",
       "4 2010-12-01 08:26:00   3.39     17850.00  United Kingdom  "
      ]
     },
     "execution_count": 1,
     "metadata": {},
     "output_type": "execute_result"
    }
   ],
   "source": [
    "# Lets import the library and read the dataset\n",
    "import numpy as np\n",
    "import datetime as dt\n",
    "import pandas as pd\n",
    "import seaborn as sns\n",
    "import matplotlib.pyplot as plt\n",
    "!pip install openpyxl\n",
    "\n",
    "        \n",
    "pd.set_option('display.max_columns', None)\n",
    "pd.set_option('display.float_format', lambda x: '%.2f' % x)\n",
    "\n",
    "df_ = pd.read_excel(\"../input/online-retail-ii-data-set-from-ml-repository/online_retail_II.xlsx\", sheet_name = \"Year 2010-2011\" )\n",
    "df = df_.copy()\n",
    "df.head()"
   ]
  },
  {
   "cell_type": "markdown",
   "id": "floating-raising",
   "metadata": {
    "papermill": {
     "duration": 0.034616,
     "end_time": "2021-07-28T13:38:21.504918",
     "exception": false,
     "start_time": "2021-07-28T13:38:21.470302",
     "status": "completed"
    },
    "tags": []
   },
   "source": [
    "**Data Understanding and Preprocessing**"
   ]
  },
  {
   "cell_type": "code",
   "execution_count": 2,
   "id": "molecular-inclusion",
   "metadata": {
    "execution": {
     "iopub.execute_input": "2021-07-28T13:38:21.580692Z",
     "iopub.status.busy": "2021-07-28T13:38:21.579842Z",
     "iopub.status.idle": "2021-07-28T13:38:21.583699Z",
     "shell.execute_reply": "2021-07-28T13:38:21.583106Z",
     "shell.execute_reply.started": "2021-07-28T13:12:41.858589Z"
    },
    "papermill": {
     "duration": 0.04285,
     "end_time": "2021-07-28T13:38:21.583844",
     "exception": false,
     "start_time": "2021-07-28T13:38:21.540994",
     "status": "completed"
    },
    "tags": []
   },
   "outputs": [
    {
     "data": {
      "text/plain": [
       "(541910, 8)"
      ]
     },
     "execution_count": 2,
     "metadata": {},
     "output_type": "execute_result"
    }
   ],
   "source": [
    "df.shape"
   ]
  },
  {
   "cell_type": "code",
   "execution_count": 3,
   "id": "nutritional-louisville",
   "metadata": {
    "execution": {
     "iopub.execute_input": "2021-07-28T13:38:21.659579Z",
     "iopub.status.busy": "2021-07-28T13:38:21.658910Z",
     "iopub.status.idle": "2021-07-28T13:38:22.086374Z",
     "shell.execute_reply": "2021-07-28T13:38:22.086878Z",
     "shell.execute_reply.started": "2021-07-28T13:12:43.620803Z"
    },
    "papermill": {
     "duration": 0.467602,
     "end_time": "2021-07-28T13:38:22.087054",
     "exception": false,
     "start_time": "2021-07-28T13:38:21.619452",
     "status": "completed"
    },
    "tags": []
   },
   "outputs": [
    {
     "data": {
      "text/plain": [
       "Invoice             0\n",
       "StockCode           0\n",
       "Description      1454\n",
       "Quantity            0\n",
       "InvoiceDate         0\n",
       "Price               0\n",
       "Customer ID    135080\n",
       "Country             0\n",
       "dtype: int64"
      ]
     },
     "execution_count": 3,
     "metadata": {},
     "output_type": "execute_result"
    }
   ],
   "source": [
    "# Are there any missing values?\n",
    "df.isnull().any()\n",
    "df.isnull().sum()"
   ]
  },
  {
   "cell_type": "code",
   "execution_count": 4,
   "id": "documented-layout",
   "metadata": {
    "execution": {
     "iopub.execute_input": "2021-07-28T13:38:22.166069Z",
     "iopub.status.busy": "2021-07-28T13:38:22.165390Z",
     "iopub.status.idle": "2021-07-28T13:38:22.443515Z",
     "shell.execute_reply": "2021-07-28T13:38:22.442779Z",
     "shell.execute_reply.started": "2021-07-28T13:12:46.253260Z"
    },
    "papermill": {
     "duration": 0.31926,
     "end_time": "2021-07-28T13:38:22.443663",
     "exception": false,
     "start_time": "2021-07-28T13:38:22.124403",
     "status": "completed"
    },
    "tags": []
   },
   "outputs": [],
   "source": [
    "# Filling in missing data\n",
    "df.dropna(inplace=True)"
   ]
  },
  {
   "cell_type": "code",
   "execution_count": 5,
   "id": "allied-shark",
   "metadata": {
    "execution": {
     "iopub.execute_input": "2021-07-28T13:38:22.520585Z",
     "iopub.status.busy": "2021-07-28T13:38:22.519643Z",
     "iopub.status.idle": "2021-07-28T13:38:22.689523Z",
     "shell.execute_reply": "2021-07-28T13:38:22.689037Z",
     "shell.execute_reply.started": "2021-07-28T13:12:48.179575Z"
    },
    "papermill": {
     "duration": 0.21082,
     "end_time": "2021-07-28T13:38:22.689659",
     "exception": false,
     "start_time": "2021-07-28T13:38:22.478839",
     "status": "completed"
    },
    "tags": []
   },
   "outputs": [
    {
     "data": {
      "text/plain": [
       "Invoice        0\n",
       "StockCode      0\n",
       "Description    0\n",
       "Quantity       0\n",
       "InvoiceDate    0\n",
       "Price          0\n",
       "Customer ID    0\n",
       "Country        0\n",
       "dtype: int64"
      ]
     },
     "execution_count": 5,
     "metadata": {},
     "output_type": "execute_result"
    }
   ],
   "source": [
    "# Check again\n",
    "df.isnull().sum()"
   ]
  },
  {
   "cell_type": "markdown",
   "id": "southeast-aside",
   "metadata": {
    "papermill": {
     "duration": 0.037513,
     "end_time": "2021-07-28T13:38:22.764183",
     "exception": false,
     "start_time": "2021-07-28T13:38:22.726670",
     "status": "completed"
    },
    "tags": []
   },
   "source": [
    "*How many unique product are there?*"
   ]
  },
  {
   "cell_type": "code",
   "execution_count": 6,
   "id": "several-decline",
   "metadata": {
    "execution": {
     "iopub.execute_input": "2021-07-28T13:38:22.885901Z",
     "iopub.status.busy": "2021-07-28T13:38:22.884719Z",
     "iopub.status.idle": "2021-07-28T13:38:22.913339Z",
     "shell.execute_reply": "2021-07-28T13:38:22.912783Z",
     "shell.execute_reply.started": "2021-07-28T13:12:51.434712Z"
    },
    "papermill": {
     "duration": 0.112043,
     "end_time": "2021-07-28T13:38:22.913469",
     "exception": false,
     "start_time": "2021-07-28T13:38:22.801426",
     "status": "completed"
    },
    "tags": []
   },
   "outputs": [
    {
     "data": {
      "text/plain": [
       "3684"
      ]
     },
     "execution_count": 6,
     "metadata": {},
     "output_type": "execute_result"
    }
   ],
   "source": [
    "df[\"StockCode\"].nunique()"
   ]
  },
  {
   "cell_type": "markdown",
   "id": "affiliated-projector",
   "metadata": {
    "papermill": {
     "duration": 0.037119,
     "end_time": "2021-07-28T13:38:22.987428",
     "exception": false,
     "start_time": "2021-07-28T13:38:22.950309",
     "status": "completed"
    },
    "tags": []
   },
   "source": [
    "*How many of each product are there?*"
   ]
  },
  {
   "cell_type": "code",
   "execution_count": 7,
   "id": "editorial-communist",
   "metadata": {
    "execution": {
     "iopub.execute_input": "2021-07-28T13:38:23.156345Z",
     "iopub.status.busy": "2021-07-28T13:38:23.155325Z",
     "iopub.status.idle": "2021-07-28T13:38:23.163321Z",
     "shell.execute_reply": "2021-07-28T13:38:23.162809Z",
     "shell.execute_reply.started": "2021-07-28T13:12:53.526756Z"
    },
    "papermill": {
     "duration": 0.137872,
     "end_time": "2021-07-28T13:38:23.163454",
     "exception": false,
     "start_time": "2021-07-28T13:38:23.025582",
     "status": "completed"
    },
    "tags": []
   },
   "outputs": [
    {
     "data": {
      "text/plain": [
       "85123A    2077\n",
       "22423     1905\n",
       "85099B    1662\n",
       "84879     1418\n",
       "47566     1416\n",
       "Name: StockCode, dtype: int64"
      ]
     },
     "execution_count": 7,
     "metadata": {},
     "output_type": "execute_result"
    }
   ],
   "source": [
    "df[\"StockCode\"].value_counts().head()\n"
   ]
  },
  {
   "cell_type": "markdown",
   "id": "romance-handle",
   "metadata": {
    "papermill": {
     "duration": 0.03663,
     "end_time": "2021-07-28T13:38:23.237211",
     "exception": false,
     "start_time": "2021-07-28T13:38:23.200581",
     "status": "completed"
    },
    "tags": []
   },
   "source": [
    "*Sort the 5 most ordered products from most to least.*"
   ]
  },
  {
   "cell_type": "code",
   "execution_count": 8,
   "id": "quantitative-blake",
   "metadata": {
    "execution": {
     "iopub.execute_input": "2021-07-28T13:38:23.404631Z",
     "iopub.status.busy": "2021-07-28T13:38:23.403579Z",
     "iopub.status.idle": "2021-07-28T13:38:23.411881Z",
     "shell.execute_reply": "2021-07-28T13:38:23.411371Z",
     "shell.execute_reply.started": "2021-07-28T13:12:55.846154Z"
    },
    "papermill": {
     "duration": 0.137477,
     "end_time": "2021-07-28T13:38:23.412015",
     "exception": false,
     "start_time": "2021-07-28T13:38:23.274538",
     "status": "completed"
    },
    "tags": []
   },
   "outputs": [
    {
     "data": {
      "text/plain": [
       "85123A    2077\n",
       "22423     1905\n",
       "85099B    1662\n",
       "84879     1418\n",
       "47566     1416\n",
       "Name: StockCode, dtype: int64"
      ]
     },
     "execution_count": 8,
     "metadata": {},
     "output_type": "execute_result"
    }
   ],
   "source": [
    "df[\"StockCode\"].value_counts().sort_values(ascending=False).head()"
   ]
  },
  {
   "cell_type": "markdown",
   "id": "upper-mainland",
   "metadata": {
    "papermill": {
     "duration": 0.037368,
     "end_time": "2021-07-28T13:38:23.487404",
     "exception": false,
     "start_time": "2021-07-28T13:38:23.450036",
     "status": "completed"
    },
    "tags": []
   },
   "source": [
    "*The 'C' in the invoices shows the canceled transactions. Since we will not use the canceled transactions, we should remove them.*"
   ]
  },
  {
   "cell_type": "code",
   "execution_count": 9,
   "id": "artistic-schedule",
   "metadata": {
    "execution": {
     "iopub.execute_input": "2021-07-28T13:38:23.609997Z",
     "iopub.status.busy": "2021-07-28T13:38:23.609024Z",
     "iopub.status.idle": "2021-07-28T13:38:24.264782Z",
     "shell.execute_reply": "2021-07-28T13:38:24.264268Z",
     "shell.execute_reply.started": "2021-07-28T13:12:57.824169Z"
    },
    "papermill": {
     "duration": 0.739743,
     "end_time": "2021-07-28T13:38:24.264924",
     "exception": false,
     "start_time": "2021-07-28T13:38:23.525181",
     "status": "completed"
    },
    "tags": []
   },
   "outputs": [],
   "source": [
    "df = df[~df[\"Invoice\"].str.contains(\"C\", na = False)]"
   ]
  },
  {
   "cell_type": "markdown",
   "id": "inside-specialist",
   "metadata": {
    "papermill": {
     "duration": 0.037385,
     "end_time": "2021-07-28T13:38:24.340210",
     "exception": false,
     "start_time": "2021-07-28T13:38:24.302825",
     "status": "completed"
    },
    "tags": []
   },
   "source": [
    "*Create a variable named 'TotalPrice' that represents the total earnings per invoice.*"
   ]
  },
  {
   "cell_type": "code",
   "execution_count": 10,
   "id": "commercial-vault",
   "metadata": {
    "execution": {
     "iopub.execute_input": "2021-07-28T13:38:24.421550Z",
     "iopub.status.busy": "2021-07-28T13:38:24.420906Z",
     "iopub.status.idle": "2021-07-28T13:38:24.425392Z",
     "shell.execute_reply": "2021-07-28T13:38:24.424922Z",
     "shell.execute_reply.started": "2021-07-28T13:13:00.384737Z"
    },
    "papermill": {
     "duration": 0.047327,
     "end_time": "2021-07-28T13:38:24.425521",
     "exception": false,
     "start_time": "2021-07-28T13:38:24.378194",
     "status": "completed"
    },
    "tags": []
   },
   "outputs": [],
   "source": [
    "df[\"TotalPrice\"] = df[\"Quantity\"] * df[\"Price\"]"
   ]
  },
  {
   "cell_type": "code",
   "execution_count": 11,
   "id": "administrative-rogers",
   "metadata": {
    "execution": {
     "iopub.execute_input": "2021-07-28T13:38:24.515190Z",
     "iopub.status.busy": "2021-07-28T13:38:24.514137Z",
     "iopub.status.idle": "2021-07-28T13:38:24.519097Z",
     "shell.execute_reply": "2021-07-28T13:38:24.518574Z",
     "shell.execute_reply.started": "2021-07-28T13:13:01.754469Z"
    },
    "papermill": {
     "duration": 0.056176,
     "end_time": "2021-07-28T13:38:24.519229",
     "exception": false,
     "start_time": "2021-07-28T13:38:24.463053",
     "status": "completed"
    },
    "tags": []
   },
   "outputs": [
    {
     "data": {
      "text/html": [
       "<div>\n",
       "<style scoped>\n",
       "    .dataframe tbody tr th:only-of-type {\n",
       "        vertical-align: middle;\n",
       "    }\n",
       "\n",
       "    .dataframe tbody tr th {\n",
       "        vertical-align: top;\n",
       "    }\n",
       "\n",
       "    .dataframe thead th {\n",
       "        text-align: right;\n",
       "    }\n",
       "</style>\n",
       "<table border=\"1\" class=\"dataframe\">\n",
       "  <thead>\n",
       "    <tr style=\"text-align: right;\">\n",
       "      <th></th>\n",
       "      <th>Invoice</th>\n",
       "      <th>StockCode</th>\n",
       "      <th>Description</th>\n",
       "      <th>Quantity</th>\n",
       "      <th>InvoiceDate</th>\n",
       "      <th>Price</th>\n",
       "      <th>Customer ID</th>\n",
       "      <th>Country</th>\n",
       "      <th>TotalPrice</th>\n",
       "    </tr>\n",
       "  </thead>\n",
       "  <tbody>\n",
       "    <tr>\n",
       "      <th>0</th>\n",
       "      <td>536365</td>\n",
       "      <td>85123A</td>\n",
       "      <td>WHITE HANGING HEART T-LIGHT HOLDER</td>\n",
       "      <td>6</td>\n",
       "      <td>2010-12-01 08:26:00</td>\n",
       "      <td>2.55</td>\n",
       "      <td>17850.00</td>\n",
       "      <td>United Kingdom</td>\n",
       "      <td>15.30</td>\n",
       "    </tr>\n",
       "    <tr>\n",
       "      <th>1</th>\n",
       "      <td>536365</td>\n",
       "      <td>71053</td>\n",
       "      <td>WHITE METAL LANTERN</td>\n",
       "      <td>6</td>\n",
       "      <td>2010-12-01 08:26:00</td>\n",
       "      <td>3.39</td>\n",
       "      <td>17850.00</td>\n",
       "      <td>United Kingdom</td>\n",
       "      <td>20.34</td>\n",
       "    </tr>\n",
       "    <tr>\n",
       "      <th>2</th>\n",
       "      <td>536365</td>\n",
       "      <td>84406B</td>\n",
       "      <td>CREAM CUPID HEARTS COAT HANGER</td>\n",
       "      <td>8</td>\n",
       "      <td>2010-12-01 08:26:00</td>\n",
       "      <td>2.75</td>\n",
       "      <td>17850.00</td>\n",
       "      <td>United Kingdom</td>\n",
       "      <td>22.00</td>\n",
       "    </tr>\n",
       "    <tr>\n",
       "      <th>3</th>\n",
       "      <td>536365</td>\n",
       "      <td>84029G</td>\n",
       "      <td>KNITTED UNION FLAG HOT WATER BOTTLE</td>\n",
       "      <td>6</td>\n",
       "      <td>2010-12-01 08:26:00</td>\n",
       "      <td>3.39</td>\n",
       "      <td>17850.00</td>\n",
       "      <td>United Kingdom</td>\n",
       "      <td>20.34</td>\n",
       "    </tr>\n",
       "    <tr>\n",
       "      <th>4</th>\n",
       "      <td>536365</td>\n",
       "      <td>84029E</td>\n",
       "      <td>RED WOOLLY HOTTIE WHITE HEART.</td>\n",
       "      <td>6</td>\n",
       "      <td>2010-12-01 08:26:00</td>\n",
       "      <td>3.39</td>\n",
       "      <td>17850.00</td>\n",
       "      <td>United Kingdom</td>\n",
       "      <td>20.34</td>\n",
       "    </tr>\n",
       "  </tbody>\n",
       "</table>\n",
       "</div>"
      ],
      "text/plain": [
       "  Invoice StockCode                          Description  Quantity  \\\n",
       "0  536365    85123A   WHITE HANGING HEART T-LIGHT HOLDER         6   \n",
       "1  536365     71053                  WHITE METAL LANTERN         6   \n",
       "2  536365    84406B       CREAM CUPID HEARTS COAT HANGER         8   \n",
       "3  536365    84029G  KNITTED UNION FLAG HOT WATER BOTTLE         6   \n",
       "4  536365    84029E       RED WOOLLY HOTTIE WHITE HEART.         6   \n",
       "\n",
       "          InvoiceDate  Price  Customer ID         Country  TotalPrice  \n",
       "0 2010-12-01 08:26:00   2.55     17850.00  United Kingdom       15.30  \n",
       "1 2010-12-01 08:26:00   3.39     17850.00  United Kingdom       20.34  \n",
       "2 2010-12-01 08:26:00   2.75     17850.00  United Kingdom       22.00  \n",
       "3 2010-12-01 08:26:00   3.39     17850.00  United Kingdom       20.34  \n",
       "4 2010-12-01 08:26:00   3.39     17850.00  United Kingdom       20.34  "
      ]
     },
     "execution_count": 11,
     "metadata": {},
     "output_type": "execute_result"
    }
   ],
   "source": [
    "df.head()"
   ]
  },
  {
   "cell_type": "markdown",
   "id": "british-tribune",
   "metadata": {
    "papermill": {
     "duration": 0.038333,
     "end_time": "2021-07-28T13:38:24.597380",
     "exception": false,
     "start_time": "2021-07-28T13:38:24.559047",
     "status": "completed"
    },
    "tags": []
   },
   "source": [
    "**Calculation of RFM metrics**"
   ]
  },
  {
   "cell_type": "markdown",
   "id": "protecting-short",
   "metadata": {
    "papermill": {
     "duration": 0.039605,
     "end_time": "2021-07-28T13:38:24.674937",
     "exception": false,
     "start_time": "2021-07-28T13:38:24.635332",
     "status": "completed"
    },
    "tags": []
   },
   "source": [
    "**Recency :** the number of days between today_date and the last purchase date of this customer\n",
    "\n",
    "**Frequency :** the number of purchase of this customer\n",
    "\n",
    "**Monetary :** sum of TotalPrice of this customer"
   ]
  },
  {
   "cell_type": "code",
   "execution_count": 12,
   "id": "greatest-chick",
   "metadata": {
    "execution": {
     "iopub.execute_input": "2021-07-28T13:38:24.755976Z",
     "iopub.status.busy": "2021-07-28T13:38:24.755360Z",
     "iopub.status.idle": "2021-07-28T13:38:24.761495Z",
     "shell.execute_reply": "2021-07-28T13:38:24.761000Z",
     "shell.execute_reply.started": "2021-07-28T13:13:05.468652Z"
    },
    "papermill": {
     "duration": 0.048469,
     "end_time": "2021-07-28T13:38:24.761622",
     "exception": false,
     "start_time": "2021-07-28T13:38:24.713153",
     "status": "completed"
    },
    "tags": []
   },
   "outputs": [
    {
     "data": {
      "text/plain": [
       "Timestamp('2011-12-09 12:50:00')"
      ]
     },
     "execution_count": 12,
     "metadata": {},
     "output_type": "execute_result"
    }
   ],
   "source": [
    "# the last date of purchase\n",
    "df[\"InvoiceDate\"].max()"
   ]
  },
  {
   "cell_type": "code",
   "execution_count": 13,
   "id": "blessed-pulse",
   "metadata": {
    "execution": {
     "iopub.execute_input": "2021-07-28T13:38:24.842522Z",
     "iopub.status.busy": "2021-07-28T13:38:24.841803Z",
     "iopub.status.idle": "2021-07-28T13:38:24.844705Z",
     "shell.execute_reply": "2021-07-28T13:38:24.844189Z",
     "shell.execute_reply.started": "2021-07-28T13:13:07.507555Z"
    },
    "papermill": {
     "duration": 0.044906,
     "end_time": "2021-07-28T13:38:24.844857",
     "exception": false,
     "start_time": "2021-07-28T13:38:24.799951",
     "status": "completed"
    },
    "tags": []
   },
   "outputs": [],
   "source": [
    "# make sure that none of the Recency values become zero\n",
    "import datetime as dt\n",
    "today_date = dt.datetime(2011, 12, 11)"
   ]
  },
  {
   "cell_type": "code",
   "execution_count": 14,
   "id": "confidential-recorder",
   "metadata": {
    "execution": {
     "iopub.execute_input": "2021-07-28T13:38:24.931031Z",
     "iopub.status.busy": "2021-07-28T13:38:24.930096Z",
     "iopub.status.idle": "2021-07-28T13:38:26.594040Z",
     "shell.execute_reply": "2021-07-28T13:38:26.593545Z",
     "shell.execute_reply.started": "2021-07-28T13:13:09.809433Z"
    },
    "papermill": {
     "duration": 1.710913,
     "end_time": "2021-07-28T13:38:26.594179",
     "exception": false,
     "start_time": "2021-07-28T13:38:24.883266",
     "status": "completed"
    },
    "tags": []
   },
   "outputs": [],
   "source": [
    "rfm = df.groupby('Customer ID').agg({'InvoiceDate': lambda InvoiceDate: (today_date - InvoiceDate.max()).days,\n",
    "                                     'Invoice': lambda Invoice: Invoice.nunique(),\n",
    "                                     'TotalPrice': lambda TotalPrice: TotalPrice.sum()})\n"
   ]
  },
  {
   "cell_type": "code",
   "execution_count": 15,
   "id": "monetary-northern",
   "metadata": {
    "execution": {
     "iopub.execute_input": "2021-07-28T13:38:26.679561Z",
     "iopub.status.busy": "2021-07-28T13:38:26.678953Z",
     "iopub.status.idle": "2021-07-28T13:38:26.681706Z",
     "shell.execute_reply": "2021-07-28T13:38:26.682301Z",
     "shell.execute_reply.started": "2021-07-28T13:13:13.526035Z"
    },
    "papermill": {
     "duration": 0.049634,
     "end_time": "2021-07-28T13:38:26.682453",
     "exception": false,
     "start_time": "2021-07-28T13:38:26.632819",
     "status": "completed"
    },
    "tags": []
   },
   "outputs": [
    {
     "data": {
      "text/html": [
       "<div>\n",
       "<style scoped>\n",
       "    .dataframe tbody tr th:only-of-type {\n",
       "        vertical-align: middle;\n",
       "    }\n",
       "\n",
       "    .dataframe tbody tr th {\n",
       "        vertical-align: top;\n",
       "    }\n",
       "\n",
       "    .dataframe thead th {\n",
       "        text-align: right;\n",
       "    }\n",
       "</style>\n",
       "<table border=\"1\" class=\"dataframe\">\n",
       "  <thead>\n",
       "    <tr style=\"text-align: right;\">\n",
       "      <th></th>\n",
       "      <th>InvoiceDate</th>\n",
       "      <th>Invoice</th>\n",
       "      <th>TotalPrice</th>\n",
       "    </tr>\n",
       "    <tr>\n",
       "      <th>Customer ID</th>\n",
       "      <th></th>\n",
       "      <th></th>\n",
       "      <th></th>\n",
       "    </tr>\n",
       "  </thead>\n",
       "  <tbody>\n",
       "    <tr>\n",
       "      <th>12346.00</th>\n",
       "      <td>326</td>\n",
       "      <td>1</td>\n",
       "      <td>77183.60</td>\n",
       "    </tr>\n",
       "    <tr>\n",
       "      <th>12347.00</th>\n",
       "      <td>3</td>\n",
       "      <td>7</td>\n",
       "      <td>4310.00</td>\n",
       "    </tr>\n",
       "    <tr>\n",
       "      <th>12348.00</th>\n",
       "      <td>76</td>\n",
       "      <td>4</td>\n",
       "      <td>1797.24</td>\n",
       "    </tr>\n",
       "    <tr>\n",
       "      <th>12349.00</th>\n",
       "      <td>19</td>\n",
       "      <td>1</td>\n",
       "      <td>1757.55</td>\n",
       "    </tr>\n",
       "    <tr>\n",
       "      <th>12350.00</th>\n",
       "      <td>311</td>\n",
       "      <td>1</td>\n",
       "      <td>334.40</td>\n",
       "    </tr>\n",
       "  </tbody>\n",
       "</table>\n",
       "</div>"
      ],
      "text/plain": [
       "             InvoiceDate  Invoice  TotalPrice\n",
       "Customer ID                                  \n",
       "12346.00             326        1    77183.60\n",
       "12347.00               3        7     4310.00\n",
       "12348.00              76        4     1797.24\n",
       "12349.00              19        1     1757.55\n",
       "12350.00             311        1      334.40"
      ]
     },
     "execution_count": 15,
     "metadata": {},
     "output_type": "execute_result"
    }
   ],
   "source": [
    "rfm.head()"
   ]
  },
  {
   "cell_type": "markdown",
   "id": "freelance-drawing",
   "metadata": {
    "papermill": {
     "duration": 0.038775,
     "end_time": "2021-07-28T13:38:26.760187",
     "exception": false,
     "start_time": "2021-07-28T13:38:26.721412",
     "status": "completed"
    },
    "tags": []
   },
   "source": [
    "*InvoiceDate represent to 'recency'\n",
    "Invoice represent 'frequency'\n",
    "TotalPrice represent 'monetary'*\n",
    "\n",
    "**Lets change the columns names**"
   ]
  },
  {
   "cell_type": "code",
   "execution_count": 16,
   "id": "dental-killing",
   "metadata": {
    "execution": {
     "iopub.execute_input": "2021-07-28T13:38:26.840337Z",
     "iopub.status.busy": "2021-07-28T13:38:26.839431Z",
     "iopub.status.idle": "2021-07-28T13:38:26.843394Z",
     "shell.execute_reply": "2021-07-28T13:38:26.843862Z",
     "shell.execute_reply.started": "2021-07-28T13:13:16.365026Z"
    },
    "papermill": {
     "duration": 0.046126,
     "end_time": "2021-07-28T13:38:26.844025",
     "exception": false,
     "start_time": "2021-07-28T13:38:26.797899",
     "status": "completed"
    },
    "tags": []
   },
   "outputs": [],
   "source": [
    "rfm.columns = ['recency', 'frequency', 'monetary']"
   ]
  },
  {
   "cell_type": "code",
   "execution_count": 17,
   "id": "eight-baseline",
   "metadata": {
    "execution": {
     "iopub.execute_input": "2021-07-28T13:38:26.927427Z",
     "iopub.status.busy": "2021-07-28T13:38:26.926833Z",
     "iopub.status.idle": "2021-07-28T13:38:26.936176Z",
     "shell.execute_reply": "2021-07-28T13:38:26.935540Z",
     "shell.execute_reply.started": "2021-07-28T13:13:18.467296Z"
    },
    "papermill": {
     "duration": 0.053675,
     "end_time": "2021-07-28T13:38:26.936330",
     "exception": false,
     "start_time": "2021-07-28T13:38:26.882655",
     "status": "completed"
    },
    "tags": []
   },
   "outputs": [
    {
     "data": {
      "text/html": [
       "<div>\n",
       "<style scoped>\n",
       "    .dataframe tbody tr th:only-of-type {\n",
       "        vertical-align: middle;\n",
       "    }\n",
       "\n",
       "    .dataframe tbody tr th {\n",
       "        vertical-align: top;\n",
       "    }\n",
       "\n",
       "    .dataframe thead th {\n",
       "        text-align: right;\n",
       "    }\n",
       "</style>\n",
       "<table border=\"1\" class=\"dataframe\">\n",
       "  <thead>\n",
       "    <tr style=\"text-align: right;\">\n",
       "      <th></th>\n",
       "      <th>recency</th>\n",
       "      <th>frequency</th>\n",
       "      <th>monetary</th>\n",
       "    </tr>\n",
       "    <tr>\n",
       "      <th>Customer ID</th>\n",
       "      <th></th>\n",
       "      <th></th>\n",
       "      <th></th>\n",
       "    </tr>\n",
       "  </thead>\n",
       "  <tbody>\n",
       "    <tr>\n",
       "      <th>12346.00</th>\n",
       "      <td>326</td>\n",
       "      <td>1</td>\n",
       "      <td>77183.60</td>\n",
       "    </tr>\n",
       "    <tr>\n",
       "      <th>12347.00</th>\n",
       "      <td>3</td>\n",
       "      <td>7</td>\n",
       "      <td>4310.00</td>\n",
       "    </tr>\n",
       "    <tr>\n",
       "      <th>12348.00</th>\n",
       "      <td>76</td>\n",
       "      <td>4</td>\n",
       "      <td>1797.24</td>\n",
       "    </tr>\n",
       "    <tr>\n",
       "      <th>12349.00</th>\n",
       "      <td>19</td>\n",
       "      <td>1</td>\n",
       "      <td>1757.55</td>\n",
       "    </tr>\n",
       "    <tr>\n",
       "      <th>12350.00</th>\n",
       "      <td>311</td>\n",
       "      <td>1</td>\n",
       "      <td>334.40</td>\n",
       "    </tr>\n",
       "  </tbody>\n",
       "</table>\n",
       "</div>"
      ],
      "text/plain": [
       "             recency  frequency  monetary\n",
       "Customer ID                              \n",
       "12346.00         326          1  77183.60\n",
       "12347.00           3          7   4310.00\n",
       "12348.00          76          4   1797.24\n",
       "12349.00          19          1   1757.55\n",
       "12350.00         311          1    334.40"
      ]
     },
     "execution_count": 17,
     "metadata": {},
     "output_type": "execute_result"
    }
   ],
   "source": [
    "rfm = rfm[rfm[\"monetary\"] > 0]\n",
    "rfm.head()"
   ]
  },
  {
   "cell_type": "markdown",
   "id": "funded-hamburg",
   "metadata": {
    "papermill": {
     "duration": 0.039507,
     "end_time": "2021-07-28T13:38:27.015417",
     "exception": false,
     "start_time": "2021-07-28T13:38:26.975910",
     "status": "completed"
    },
    "tags": []
   },
   "source": [
    "We need to score these values between 1 and 5. After scoring, we will segment it."
   ]
  },
  {
   "cell_type": "code",
   "execution_count": 18,
   "id": "endless-duration",
   "metadata": {
    "execution": {
     "iopub.execute_input": "2021-07-28T13:38:27.103531Z",
     "iopub.status.busy": "2021-07-28T13:38:27.102508Z",
     "iopub.status.idle": "2021-07-28T13:38:27.122263Z",
     "shell.execute_reply": "2021-07-28T13:38:27.121683Z",
     "shell.execute_reply.started": "2021-07-28T13:13:20.829744Z"
    },
    "papermill": {
     "duration": 0.067291,
     "end_time": "2021-07-28T13:38:27.122397",
     "exception": false,
     "start_time": "2021-07-28T13:38:27.055106",
     "status": "completed"
    },
    "tags": []
   },
   "outputs": [],
   "source": [
    "rfm[\"recency_score\"] = pd.qcut(rfm['recency'], 5, labels=[5, 4, 3, 2, 1])\n",
    "\n",
    "\n",
    "rfm[\"frequency_score\"] = pd.qcut(rfm['frequency'].rank(method=\"first\"), 5, labels=[1, 2, 3, 4, 5])\n",
    "\n",
    "rfm[\"monetary_score\"] = pd.qcut(rfm['monetary'], 5, labels=[1, 2, 3, 4, 5])\n",
    "\n",
    "\n",
    "rfm[\"RFM_SCORE\"] = (rfm['recency_score'].astype(str) +\n",
    "                    rfm['frequency_score'].astype(str))"
   ]
  },
  {
   "cell_type": "code",
   "execution_count": 19,
   "id": "colored-dublin",
   "metadata": {
    "execution": {
     "iopub.execute_input": "2021-07-28T13:38:27.215019Z",
     "iopub.status.busy": "2021-07-28T13:38:27.214384Z",
     "iopub.status.idle": "2021-07-28T13:38:27.219006Z",
     "shell.execute_reply": "2021-07-28T13:38:27.218453Z",
     "shell.execute_reply.started": "2021-07-28T13:13:23.331587Z"
    },
    "papermill": {
     "duration": 0.057849,
     "end_time": "2021-07-28T13:38:27.219147",
     "exception": false,
     "start_time": "2021-07-28T13:38:27.161298",
     "status": "completed"
    },
    "tags": []
   },
   "outputs": [
    {
     "data": {
      "text/html": [
       "<div>\n",
       "<style scoped>\n",
       "    .dataframe tbody tr th:only-of-type {\n",
       "        vertical-align: middle;\n",
       "    }\n",
       "\n",
       "    .dataframe tbody tr th {\n",
       "        vertical-align: top;\n",
       "    }\n",
       "\n",
       "    .dataframe thead th {\n",
       "        text-align: right;\n",
       "    }\n",
       "</style>\n",
       "<table border=\"1\" class=\"dataframe\">\n",
       "  <thead>\n",
       "    <tr style=\"text-align: right;\">\n",
       "      <th></th>\n",
       "      <th>recency</th>\n",
       "      <th>frequency</th>\n",
       "      <th>monetary</th>\n",
       "      <th>recency_score</th>\n",
       "      <th>frequency_score</th>\n",
       "      <th>monetary_score</th>\n",
       "      <th>RFM_SCORE</th>\n",
       "    </tr>\n",
       "    <tr>\n",
       "      <th>Customer ID</th>\n",
       "      <th></th>\n",
       "      <th></th>\n",
       "      <th></th>\n",
       "      <th></th>\n",
       "      <th></th>\n",
       "      <th></th>\n",
       "      <th></th>\n",
       "    </tr>\n",
       "  </thead>\n",
       "  <tbody>\n",
       "    <tr>\n",
       "      <th>12346.00</th>\n",
       "      <td>326</td>\n",
       "      <td>1</td>\n",
       "      <td>77183.60</td>\n",
       "      <td>1</td>\n",
       "      <td>1</td>\n",
       "      <td>5</td>\n",
       "      <td>11</td>\n",
       "    </tr>\n",
       "    <tr>\n",
       "      <th>12347.00</th>\n",
       "      <td>3</td>\n",
       "      <td>7</td>\n",
       "      <td>4310.00</td>\n",
       "      <td>5</td>\n",
       "      <td>5</td>\n",
       "      <td>5</td>\n",
       "      <td>55</td>\n",
       "    </tr>\n",
       "    <tr>\n",
       "      <th>12348.00</th>\n",
       "      <td>76</td>\n",
       "      <td>4</td>\n",
       "      <td>1797.24</td>\n",
       "      <td>2</td>\n",
       "      <td>4</td>\n",
       "      <td>4</td>\n",
       "      <td>24</td>\n",
       "    </tr>\n",
       "    <tr>\n",
       "      <th>12349.00</th>\n",
       "      <td>19</td>\n",
       "      <td>1</td>\n",
       "      <td>1757.55</td>\n",
       "      <td>4</td>\n",
       "      <td>1</td>\n",
       "      <td>4</td>\n",
       "      <td>41</td>\n",
       "    </tr>\n",
       "    <tr>\n",
       "      <th>12350.00</th>\n",
       "      <td>311</td>\n",
       "      <td>1</td>\n",
       "      <td>334.40</td>\n",
       "      <td>1</td>\n",
       "      <td>1</td>\n",
       "      <td>2</td>\n",
       "      <td>11</td>\n",
       "    </tr>\n",
       "  </tbody>\n",
       "</table>\n",
       "</div>"
      ],
      "text/plain": [
       "             recency  frequency  monetary recency_score frequency_score  \\\n",
       "Customer ID                                                               \n",
       "12346.00         326          1  77183.60             1               1   \n",
       "12347.00           3          7   4310.00             5               5   \n",
       "12348.00          76          4   1797.24             2               4   \n",
       "12349.00          19          1   1757.55             4               1   \n",
       "12350.00         311          1    334.40             1               1   \n",
       "\n",
       "            monetary_score RFM_SCORE  \n",
       "Customer ID                           \n",
       "12346.00                 5        11  \n",
       "12347.00                 5        55  \n",
       "12348.00                 4        24  \n",
       "12349.00                 4        41  \n",
       "12350.00                 2        11  "
      ]
     },
     "execution_count": 19,
     "metadata": {},
     "output_type": "execute_result"
    }
   ],
   "source": [
    "rfm.head()"
   ]
  },
  {
   "cell_type": "code",
   "execution_count": 20,
   "id": "impossible-korean",
   "metadata": {
    "execution": {
     "iopub.execute_input": "2021-07-28T13:38:27.365214Z",
     "iopub.status.busy": "2021-07-28T13:38:27.357951Z",
     "iopub.status.idle": "2021-07-28T13:38:27.418584Z",
     "shell.execute_reply": "2021-07-28T13:38:27.417600Z",
     "shell.execute_reply.started": "2021-07-28T13:13:25.569977Z"
    },
    "papermill": {
     "duration": 0.160136,
     "end_time": "2021-07-28T13:38:27.418742",
     "exception": false,
     "start_time": "2021-07-28T13:38:27.258606",
     "status": "completed"
    },
    "tags": []
   },
   "outputs": [
    {
     "data": {
      "text/html": [
       "<div>\n",
       "<style scoped>\n",
       "    .dataframe tbody tr th:only-of-type {\n",
       "        vertical-align: middle;\n",
       "    }\n",
       "\n",
       "    .dataframe tbody tr th {\n",
       "        vertical-align: top;\n",
       "    }\n",
       "\n",
       "    .dataframe thead th {\n",
       "        text-align: right;\n",
       "    }\n",
       "</style>\n",
       "<table border=\"1\" class=\"dataframe\">\n",
       "  <thead>\n",
       "    <tr style=\"text-align: right;\">\n",
       "      <th></th>\n",
       "      <th>recency</th>\n",
       "      <th>frequency</th>\n",
       "      <th>monetary</th>\n",
       "      <th>recency_score</th>\n",
       "      <th>frequency_score</th>\n",
       "      <th>monetary_score</th>\n",
       "      <th>RFM_SCORE</th>\n",
       "      <th>segment</th>\n",
       "    </tr>\n",
       "    <tr>\n",
       "      <th>Customer ID</th>\n",
       "      <th></th>\n",
       "      <th></th>\n",
       "      <th></th>\n",
       "      <th></th>\n",
       "      <th></th>\n",
       "      <th></th>\n",
       "      <th></th>\n",
       "      <th></th>\n",
       "    </tr>\n",
       "  </thead>\n",
       "  <tbody>\n",
       "    <tr>\n",
       "      <th>12346.00</th>\n",
       "      <td>326</td>\n",
       "      <td>1</td>\n",
       "      <td>77183.60</td>\n",
       "      <td>1</td>\n",
       "      <td>1</td>\n",
       "      <td>5</td>\n",
       "      <td>11</td>\n",
       "      <td>hibernating</td>\n",
       "    </tr>\n",
       "    <tr>\n",
       "      <th>12347.00</th>\n",
       "      <td>3</td>\n",
       "      <td>7</td>\n",
       "      <td>4310.00</td>\n",
       "      <td>5</td>\n",
       "      <td>5</td>\n",
       "      <td>5</td>\n",
       "      <td>55</td>\n",
       "      <td>champions</td>\n",
       "    </tr>\n",
       "    <tr>\n",
       "      <th>12348.00</th>\n",
       "      <td>76</td>\n",
       "      <td>4</td>\n",
       "      <td>1797.24</td>\n",
       "      <td>2</td>\n",
       "      <td>4</td>\n",
       "      <td>4</td>\n",
       "      <td>24</td>\n",
       "      <td>at_Risk</td>\n",
       "    </tr>\n",
       "    <tr>\n",
       "      <th>12349.00</th>\n",
       "      <td>19</td>\n",
       "      <td>1</td>\n",
       "      <td>1757.55</td>\n",
       "      <td>4</td>\n",
       "      <td>1</td>\n",
       "      <td>4</td>\n",
       "      <td>41</td>\n",
       "      <td>promising</td>\n",
       "    </tr>\n",
       "    <tr>\n",
       "      <th>12350.00</th>\n",
       "      <td>311</td>\n",
       "      <td>1</td>\n",
       "      <td>334.40</td>\n",
       "      <td>1</td>\n",
       "      <td>1</td>\n",
       "      <td>2</td>\n",
       "      <td>11</td>\n",
       "      <td>hibernating</td>\n",
       "    </tr>\n",
       "  </tbody>\n",
       "</table>\n",
       "</div>"
      ],
      "text/plain": [
       "             recency  frequency  monetary recency_score frequency_score  \\\n",
       "Customer ID                                                               \n",
       "12346.00         326          1  77183.60             1               1   \n",
       "12347.00           3          7   4310.00             5               5   \n",
       "12348.00          76          4   1797.24             2               4   \n",
       "12349.00          19          1   1757.55             4               1   \n",
       "12350.00         311          1    334.40             1               1   \n",
       "\n",
       "            monetary_score RFM_SCORE      segment  \n",
       "Customer ID                                        \n",
       "12346.00                 5        11  hibernating  \n",
       "12347.00                 5        55    champions  \n",
       "12348.00                 4        24      at_Risk  \n",
       "12349.00                 4        41    promising  \n",
       "12350.00                 2        11  hibernating  "
      ]
     },
     "execution_count": 20,
     "metadata": {},
     "output_type": "execute_result"
    }
   ],
   "source": [
    "seg_map = {\n",
    "    r'[1-2][1-2]': 'hibernating',\n",
    "    r'[1-2][3-4]': 'at_Risk',\n",
    "    r'[1-2]5': 'cant_loose',\n",
    "    r'3[1-2]': 'about_to_sleep',\n",
    "    r'33': 'need_attention',\n",
    "    r'[3-4][4-5]': 'loyal_customers',\n",
    "    r'41': 'promising',\n",
    "    r'51': 'new_customers',\n",
    "    r'[4-5][2-3]': 'potential_loyalists',\n",
    "    r'5[4-5]': 'champions'\n",
    "}\n",
    "\n",
    "\n",
    "rfm['segment'] = rfm['RFM_SCORE'].replace(seg_map, regex=True)\n",
    "\n",
    "rfm[[\"segment\", \"recency\", \"frequency\", \"monetary\"]].groupby(\"segment\").agg([\"mean\", \"count\"])\n",
    "\n",
    "rfm.head()"
   ]
  },
  {
   "cell_type": "markdown",
   "id": "banned-disposal",
   "metadata": {
    "papermill": {
     "duration": 0.040973,
     "end_time": "2021-07-28T13:38:27.500630",
     "exception": false,
     "start_time": "2021-07-28T13:38:27.459657",
     "status": "completed"
    },
    "tags": []
   },
   "source": [
    "Now, we anayze 3 segments which are champions, can't loose and need attention."
   ]
  },
  {
   "cell_type": "code",
   "execution_count": 21,
   "id": "another-remains",
   "metadata": {
    "execution": {
     "iopub.execute_input": "2021-07-28T13:38:27.591385Z",
     "iopub.status.busy": "2021-07-28T13:38:27.588519Z",
     "iopub.status.idle": "2021-07-28T13:38:27.593728Z",
     "shell.execute_reply": "2021-07-28T13:38:27.594225Z",
     "shell.execute_reply.started": "2021-07-28T13:13:30.399880Z"
    },
    "papermill": {
     "duration": 0.053157,
     "end_time": "2021-07-28T13:38:27.594407",
     "exception": false,
     "start_time": "2021-07-28T13:38:27.541250",
     "status": "completed"
    },
    "tags": []
   },
   "outputs": [],
   "source": [
    "champions = rfm[rfm['segment'] == 'champions']\n",
    "cant_loose = rfm[rfm['segment'] == 'cant_loose']"
   ]
  },
  {
   "cell_type": "code",
   "execution_count": 22,
   "id": "tutorial-straight",
   "metadata": {
    "execution": {
     "iopub.execute_input": "2021-07-28T13:38:27.679091Z",
     "iopub.status.busy": "2021-07-28T13:38:27.678456Z",
     "iopub.status.idle": "2021-07-28T13:38:27.693278Z",
     "shell.execute_reply": "2021-07-28T13:38:27.693794Z",
     "shell.execute_reply.started": "2021-07-28T13:13:33.604726Z"
    },
    "papermill": {
     "duration": 0.058915,
     "end_time": "2021-07-28T13:38:27.693967",
     "exception": false,
     "start_time": "2021-07-28T13:38:27.635052",
     "status": "completed"
    },
    "tags": []
   },
   "outputs": [
    {
     "data": {
      "text/html": [
       "<div>\n",
       "<style scoped>\n",
       "    .dataframe tbody tr th:only-of-type {\n",
       "        vertical-align: middle;\n",
       "    }\n",
       "\n",
       "    .dataframe tbody tr th {\n",
       "        vertical-align: top;\n",
       "    }\n",
       "\n",
       "    .dataframe thead th {\n",
       "        text-align: right;\n",
       "    }\n",
       "</style>\n",
       "<table border=\"1\" class=\"dataframe\">\n",
       "  <thead>\n",
       "    <tr style=\"text-align: right;\">\n",
       "      <th></th>\n",
       "      <th>recency</th>\n",
       "      <th>frequency</th>\n",
       "      <th>monetary</th>\n",
       "    </tr>\n",
       "  </thead>\n",
       "  <tbody>\n",
       "    <tr>\n",
       "      <th>mean</th>\n",
       "      <td>6.36</td>\n",
       "      <td>12.42</td>\n",
       "      <td>6857.96</td>\n",
       "    </tr>\n",
       "    <tr>\n",
       "      <th>count</th>\n",
       "      <td>633.00</td>\n",
       "      <td>633.00</td>\n",
       "      <td>633.00</td>\n",
       "    </tr>\n",
       "  </tbody>\n",
       "</table>\n",
       "</div>"
      ],
      "text/plain": [
       "       recency  frequency  monetary\n",
       "mean      6.36      12.42   6857.96\n",
       "count   633.00     633.00    633.00"
      ]
     },
     "execution_count": 22,
     "metadata": {},
     "output_type": "execute_result"
    }
   ],
   "source": [
    "champions[['recency','frequency','monetary']].agg(['mean', 'count'])"
   ]
  },
  {
   "cell_type": "markdown",
   "id": "controversial-marks",
   "metadata": {
    "papermill": {
     "duration": 0.041255,
     "end_time": "2021-07-28T13:38:27.778688",
     "exception": false,
     "start_time": "2021-07-28T13:38:27.737433",
     "status": "completed"
    },
    "tags": []
   },
   "source": [
    "We can say that 633 customers bought 6857.96 units by shopping 12 times approximately every 6 days.\n",
    "It is the most special, most loved type of customer. Special calls can be made to these customers. Gift voucher can be defined. Campaigns can be made of buy 1 get 1 free."
   ]
  },
  {
   "cell_type": "code",
   "execution_count": 23,
   "id": "wicked-empty",
   "metadata": {
    "execution": {
     "iopub.execute_input": "2021-07-28T13:38:27.863560Z",
     "iopub.status.busy": "2021-07-28T13:38:27.862953Z",
     "iopub.status.idle": "2021-07-28T13:38:27.876245Z",
     "shell.execute_reply": "2021-07-28T13:38:27.875775Z",
     "shell.execute_reply.started": "2021-07-28T13:13:40.980972Z"
    },
    "papermill": {
     "duration": 0.057039,
     "end_time": "2021-07-28T13:38:27.876394",
     "exception": false,
     "start_time": "2021-07-28T13:38:27.819355",
     "status": "completed"
    },
    "tags": []
   },
   "outputs": [
    {
     "data": {
      "text/html": [
       "<div>\n",
       "<style scoped>\n",
       "    .dataframe tbody tr th:only-of-type {\n",
       "        vertical-align: middle;\n",
       "    }\n",
       "\n",
       "    .dataframe tbody tr th {\n",
       "        vertical-align: top;\n",
       "    }\n",
       "\n",
       "    .dataframe thead th {\n",
       "        text-align: right;\n",
       "    }\n",
       "</style>\n",
       "<table border=\"1\" class=\"dataframe\">\n",
       "  <thead>\n",
       "    <tr style=\"text-align: right;\">\n",
       "      <th></th>\n",
       "      <th>recency</th>\n",
       "      <th>frequency</th>\n",
       "      <th>monetary</th>\n",
       "    </tr>\n",
       "  </thead>\n",
       "  <tbody>\n",
       "    <tr>\n",
       "      <th>mean</th>\n",
       "      <td>132.97</td>\n",
       "      <td>8.38</td>\n",
       "      <td>2796.16</td>\n",
       "    </tr>\n",
       "    <tr>\n",
       "      <th>count</th>\n",
       "      <td>63.00</td>\n",
       "      <td>63.00</td>\n",
       "      <td>63.00</td>\n",
       "    </tr>\n",
       "  </tbody>\n",
       "</table>\n",
       "</div>"
      ],
      "text/plain": [
       "       recency  frequency  monetary\n",
       "mean    132.97       8.38   2796.16\n",
       "count    63.00      63.00     63.00"
      ]
     },
     "execution_count": 23,
     "metadata": {},
     "output_type": "execute_result"
    }
   ],
   "source": [
    "cant_loose[['recency','frequency','monetary']].agg(['mean', 'count'])"
   ]
  },
  {
   "cell_type": "markdown",
   "id": "martial-following",
   "metadata": {
    "papermill": {
     "duration": 0.041662,
     "end_time": "2021-07-28T13:38:27.959194",
     "exception": false,
     "start_time": "2021-07-28T13:38:27.917532",
     "status": "completed"
    },
    "tags": []
   },
   "source": [
    "63 customers bought 897.63 units by shopping twice every 132 days. They spend a good amount of money and they used to be our loyal customers, we can't loose them. There may be pop-ups like we miss you. Continuous reminder notifications can be sent. Special campaigns can be made for your previous shopping."
   ]
  },
  {
   "cell_type": "code",
   "execution_count": 24,
   "id": "contained-mixture",
   "metadata": {
    "execution": {
     "iopub.execute_input": "2021-07-28T13:38:28.049682Z",
     "iopub.status.busy": "2021-07-28T13:38:28.048700Z",
     "iopub.status.idle": "2021-07-28T13:38:28.166749Z",
     "shell.execute_reply": "2021-07-28T13:38:28.166142Z",
     "shell.execute_reply.started": "2021-07-28T13:14:03.406188Z"
    },
    "papermill": {
     "duration": 0.1664,
     "end_time": "2021-07-28T13:38:28.166918",
     "exception": false,
     "start_time": "2021-07-28T13:38:28.000518",
     "status": "completed"
    },
    "tags": []
   },
   "outputs": [],
   "source": [
    "loyal_df = pd.DataFrame()\n",
    "loyal_df[\"loyal_customer_id\"] = rfm[rfm[\"segment\"] == \"loyal_customers\"].index\n",
    "loyal_df.head()\n",
    "\n",
    "loyal_df.to_excel(\"loyal_customers.xlsx\", sheet_name='Loyal Customers Index')"
   ]
  },
  {
   "cell_type": "markdown",
   "id": "explicit-pierre",
   "metadata": {
    "papermill": {
     "duration": 0.042804,
     "end_time": "2021-07-28T13:38:28.252313",
     "exception": false,
     "start_time": "2021-07-28T13:38:28.209509",
     "status": "completed"
    },
    "tags": []
   },
   "source": [
    "***NOW, USING K-MEANS CLUSTERING***"
   ]
  },
  {
   "cell_type": "code",
   "execution_count": 25,
   "id": "honest-plant",
   "metadata": {
    "execution": {
     "iopub.execute_input": "2021-07-28T13:38:28.342485Z",
     "iopub.status.busy": "2021-07-28T13:38:28.341876Z",
     "iopub.status.idle": "2021-07-28T13:38:28.911227Z",
     "shell.execute_reply": "2021-07-28T13:38:28.910629Z",
     "shell.execute_reply.started": "2021-07-28T13:14:08.415356Z"
    },
    "papermill": {
     "duration": 0.616443,
     "end_time": "2021-07-28T13:38:28.911361",
     "exception": false,
     "start_time": "2021-07-28T13:38:28.294918",
     "status": "completed"
    },
    "tags": []
   },
   "outputs": [],
   "source": [
    "import numpy as np\n",
    "import pandas as pd\n",
    "import matplotlib.pyplot as plt\n",
    "from sklearn.cluster import KMeans\n",
    "from sklearn.preprocessing import MinMaxScaler\n",
    "from yellowbrick.cluster import KElbowVisualizer\n",
    "from scipy.cluster.hierarchy import linkage\n",
    "from scipy.cluster.hierarchy import dendrogram\n",
    "from sklearn.preprocessing import StandardScaler\n",
    "from sklearn.decomposition import PCA\n",
    "import datetime as dt"
   ]
  },
  {
   "cell_type": "markdown",
   "id": "grand-haven",
   "metadata": {
    "papermill": {
     "duration": 0.041499,
     "end_time": "2021-07-28T13:38:28.994367",
     "exception": false,
     "start_time": "2021-07-28T13:38:28.952868",
     "status": "completed"
    },
    "tags": []
   },
   "source": [
    "Scale the data"
   ]
  },
  {
   "cell_type": "code",
   "execution_count": 26,
   "id": "sexual-capacity",
   "metadata": {
    "execution": {
     "iopub.execute_input": "2021-07-28T13:38:29.088569Z",
     "iopub.status.busy": "2021-07-28T13:38:29.087952Z",
     "iopub.status.idle": "2021-07-28T13:38:29.099649Z",
     "shell.execute_reply": "2021-07-28T13:38:29.099151Z",
     "shell.execute_reply.started": "2021-07-28T13:18:11.557386Z"
    },
    "papermill": {
     "duration": 0.062911,
     "end_time": "2021-07-28T13:38:29.099803",
     "exception": false,
     "start_time": "2021-07-28T13:38:29.036892",
     "status": "completed"
    },
    "tags": []
   },
   "outputs": [
    {
     "data": {
      "text/html": [
       "<div>\n",
       "<style scoped>\n",
       "    .dataframe tbody tr th:only-of-type {\n",
       "        vertical-align: middle;\n",
       "    }\n",
       "\n",
       "    .dataframe tbody tr th {\n",
       "        vertical-align: top;\n",
       "    }\n",
       "\n",
       "    .dataframe thead th {\n",
       "        text-align: right;\n",
       "    }\n",
       "</style>\n",
       "<table border=\"1\" class=\"dataframe\">\n",
       "  <thead>\n",
       "    <tr style=\"text-align: right;\">\n",
       "      <th></th>\n",
       "      <th>Customer ID</th>\n",
       "      <th>Recency</th>\n",
       "      <th>Frequency</th>\n",
       "      <th>Monetary</th>\n",
       "    </tr>\n",
       "  </thead>\n",
       "  <tbody>\n",
       "    <tr>\n",
       "      <th>0</th>\n",
       "      <td>12346.00</td>\n",
       "      <td>0.87</td>\n",
       "      <td>0.00</td>\n",
       "      <td>0.28</td>\n",
       "    </tr>\n",
       "    <tr>\n",
       "      <th>1</th>\n",
       "      <td>12347.00</td>\n",
       "      <td>0.01</td>\n",
       "      <td>0.03</td>\n",
       "      <td>0.02</td>\n",
       "    </tr>\n",
       "    <tr>\n",
       "      <th>2</th>\n",
       "      <td>12348.00</td>\n",
       "      <td>0.20</td>\n",
       "      <td>0.01</td>\n",
       "      <td>0.01</td>\n",
       "    </tr>\n",
       "    <tr>\n",
       "      <th>3</th>\n",
       "      <td>12349.00</td>\n",
       "      <td>0.05</td>\n",
       "      <td>0.00</td>\n",
       "      <td>0.01</td>\n",
       "    </tr>\n",
       "    <tr>\n",
       "      <th>4</th>\n",
       "      <td>12350.00</td>\n",
       "      <td>0.83</td>\n",
       "      <td>0.00</td>\n",
       "      <td>0.00</td>\n",
       "    </tr>\n",
       "  </tbody>\n",
       "</table>\n",
       "</div>"
      ],
      "text/plain": [
       "   Customer ID  Recency  Frequency  Monetary\n",
       "0     12346.00     0.87       0.00      0.28\n",
       "1     12347.00     0.01       0.03      0.02\n",
       "2     12348.00     0.20       0.01      0.01\n",
       "3     12349.00     0.05       0.00      0.01\n",
       "4     12350.00     0.83       0.00      0.00"
      ]
     },
     "execution_count": 26,
     "metadata": {},
     "output_type": "execute_result"
    }
   ],
   "source": [
    "sc = MinMaxScaler((0, 1))\n",
    "segment_df = pd.DataFrame(sc.fit_transform(rfm[[\"recency\", \"frequency\", \"monetary\"]]),\n",
    "                            index=rfm.index, columns=[\"Recency\", \"Frequency\", \"Monetary\"])\n",
    "segment_df.reset_index(inplace=True)\n",
    "segment_df.head()"
   ]
  },
  {
   "cell_type": "code",
   "execution_count": 27,
   "id": "present-bacon",
   "metadata": {
    "execution": {
     "iopub.execute_input": "2021-07-28T13:38:29.190670Z",
     "iopub.status.busy": "2021-07-28T13:38:29.190086Z",
     "iopub.status.idle": "2021-07-28T13:38:57.563096Z",
     "shell.execute_reply": "2021-07-28T13:38:57.563579Z",
     "shell.execute_reply.started": "2021-07-28T13:18:28.642026Z"
    },
    "papermill": {
     "duration": 28.421798,
     "end_time": "2021-07-28T13:38:57.563741",
     "exception": false,
     "start_time": "2021-07-28T13:38:29.141943",
     "status": "completed"
    },
    "tags": []
   },
   "outputs": [
    {
     "data": {
      "image/png": "[encoded data removed]",
      "text/plain": [
       "<Figure size 576x396 with 2 Axes>"
      ]
     },
     "metadata": {},
     "output_type": "display_data"
    },
    {
     "data": {
      "text/plain": [
       "<AxesSubplot:title={'center':'Distortion Score Elbow for KMeans Clustering'}, xlabel='k', ylabel='distortion score'>"
      ]
     },
     "execution_count": 27,
     "metadata": {},
     "output_type": "execute_result"
    }
   ],
   "source": [
    "kmeans = KMeans()\n",
    "elbow = KElbowVisualizer(kmeans, k=(2, 20))\n",
    "elbow.fit(segment_df)\n",
    "elbow.show()"
   ]
  },
  {
   "cell_type": "code",
   "execution_count": 28,
   "id": "diagnostic-travel",
   "metadata": {
    "execution": {
     "iopub.execute_input": "2021-07-28T13:38:57.659112Z",
     "iopub.status.busy": "2021-07-28T13:38:57.658473Z",
     "iopub.status.idle": "2021-07-28T13:38:59.132021Z",
     "shell.execute_reply": "2021-07-28T13:38:59.132585Z",
     "shell.execute_reply.started": "2021-07-28T13:35:38.565613Z"
    },
    "papermill": {
     "duration": 1.522868,
     "end_time": "2021-07-28T13:38:59.132781",
     "exception": false,
     "start_time": "2021-07-28T13:38:57.609913",
     "status": "completed"
    },
    "tags": []
   },
   "outputs": [],
   "source": [
    "kmeans = KMeans(n_clusters=elbow.elbow_value_).fit(segment_df)\n",
    "segment_df[\"clusters\"] = kmeans.labels_"
   ]
  },
  {
   "cell_type": "code",
   "execution_count": 29,
   "id": "refined-student",
   "metadata": {
    "execution": {
     "iopub.execute_input": "2021-07-28T13:38:59.237070Z",
     "iopub.status.busy": "2021-07-28T13:38:59.236444Z",
     "iopub.status.idle": "2021-07-28T13:38:59.239825Z",
     "shell.execute_reply": "2021-07-28T13:38:59.240281Z",
     "shell.execute_reply.started": "2021-07-28T13:35:40.855224Z"
    },
    "papermill": {
     "duration": 0.056776,
     "end_time": "2021-07-28T13:38:59.240438",
     "exception": false,
     "start_time": "2021-07-28T13:38:59.183662",
     "status": "completed"
    },
    "tags": []
   },
   "outputs": [
    {
     "data": {
      "text/html": [
       "<div>\n",
       "<style scoped>\n",
       "    .dataframe tbody tr th:only-of-type {\n",
       "        vertical-align: middle;\n",
       "    }\n",
       "\n",
       "    .dataframe tbody tr th {\n",
       "        vertical-align: top;\n",
       "    }\n",
       "\n",
       "    .dataframe thead th {\n",
       "        text-align: right;\n",
       "    }\n",
       "</style>\n",
       "<table border=\"1\" class=\"dataframe\">\n",
       "  <thead>\n",
       "    <tr style=\"text-align: right;\">\n",
       "      <th></th>\n",
       "      <th>Customer ID</th>\n",
       "      <th>Recency</th>\n",
       "      <th>Frequency</th>\n",
       "      <th>Monetary</th>\n",
       "      <th>clusters</th>\n",
       "    </tr>\n",
       "  </thead>\n",
       "  <tbody>\n",
       "    <tr>\n",
       "      <th>0</th>\n",
       "      <td>12346.00</td>\n",
       "      <td>0.87</td>\n",
       "      <td>0.00</td>\n",
       "      <td>0.28</td>\n",
       "      <td>1</td>\n",
       "    </tr>\n",
       "    <tr>\n",
       "      <th>1</th>\n",
       "      <td>12347.00</td>\n",
       "      <td>0.01</td>\n",
       "      <td>0.03</td>\n",
       "      <td>0.02</td>\n",
       "      <td>1</td>\n",
       "    </tr>\n",
       "    <tr>\n",
       "      <th>2</th>\n",
       "      <td>12348.00</td>\n",
       "      <td>0.20</td>\n",
       "      <td>0.01</td>\n",
       "      <td>0.01</td>\n",
       "      <td>1</td>\n",
       "    </tr>\n",
       "    <tr>\n",
       "      <th>3</th>\n",
       "      <td>12349.00</td>\n",
       "      <td>0.05</td>\n",
       "      <td>0.00</td>\n",
       "      <td>0.01</td>\n",
       "      <td>1</td>\n",
       "    </tr>\n",
       "    <tr>\n",
       "      <th>4</th>\n",
       "      <td>12350.00</td>\n",
       "      <td>0.83</td>\n",
       "      <td>0.00</td>\n",
       "      <td>0.00</td>\n",
       "      <td>1</td>\n",
       "    </tr>\n",
       "  </tbody>\n",
       "</table>\n",
       "</div>"
      ],
      "text/plain": [
       "   Customer ID  Recency  Frequency  Monetary  clusters\n",
       "0     12346.00     0.87       0.00      0.28         1\n",
       "1     12347.00     0.01       0.03      0.02         1\n",
       "2     12348.00     0.20       0.01      0.01         1\n",
       "3     12349.00     0.05       0.00      0.01         1\n",
       "4     12350.00     0.83       0.00      0.00         1"
      ]
     },
     "execution_count": 29,
     "metadata": {},
     "output_type": "execute_result"
    }
   ],
   "source": [
    "segment_df.head()"
   ]
  },
  {
   "cell_type": "markdown",
   "id": "close-government",
   "metadata": {
    "papermill": {
     "duration": 0.042122,
     "end_time": "2021-07-28T13:38:59.326908",
     "exception": false,
     "start_time": "2021-07-28T13:38:59.284786",
     "status": "completed"
    },
    "tags": []
   },
   "source": [
    "**Comparing RFM metrics with K-Means**"
   ]
  },
  {
   "cell_type": "code",
   "execution_count": 30,
   "id": "accurate-sector",
   "metadata": {
    "execution": {
     "iopub.execute_input": "2021-07-28T13:38:59.423957Z",
     "iopub.status.busy": "2021-07-28T13:38:59.423312Z",
     "iopub.status.idle": "2021-07-28T13:38:59.460459Z",
     "shell.execute_reply": "2021-07-28T13:38:59.460905Z",
     "shell.execute_reply.started": "2021-07-28T13:23:45.720024Z"
    },
    "papermill": {
     "duration": 0.089802,
     "end_time": "2021-07-28T13:38:59.461071",
     "exception": false,
     "start_time": "2021-07-28T13:38:59.371269",
     "status": "completed"
    },
    "tags": []
   },
   "outputs": [
    {
     "data": {
      "text/html": [
       "<div>\n",
       "<style scoped>\n",
       "    .dataframe tbody tr th:only-of-type {\n",
       "        vertical-align: middle;\n",
       "    }\n",
       "\n",
       "    .dataframe tbody tr th {\n",
       "        vertical-align: top;\n",
       "    }\n",
       "\n",
       "    .dataframe thead tr th {\n",
       "        text-align: left;\n",
       "    }\n",
       "\n",
       "    .dataframe thead tr:last-of-type th {\n",
       "        text-align: right;\n",
       "    }\n",
       "</style>\n",
       "<table border=\"1\" class=\"dataframe\">\n",
       "  <thead>\n",
       "    <tr>\n",
       "      <th></th>\n",
       "      <th></th>\n",
       "      <th>recency</th>\n",
       "      <th>frequency</th>\n",
       "      <th>monetary</th>\n",
       "    </tr>\n",
       "    <tr>\n",
       "      <th></th>\n",
       "      <th></th>\n",
       "      <th>mean</th>\n",
       "      <th>mean</th>\n",
       "      <th>mean</th>\n",
       "    </tr>\n",
       "    <tr>\n",
       "      <th>clusters</th>\n",
       "      <th>segment</th>\n",
       "      <th></th>\n",
       "      <th></th>\n",
       "      <th></th>\n",
       "    </tr>\n",
       "  </thead>\n",
       "  <tbody>\n",
       "    <tr>\n",
       "      <th rowspan=\"10\" valign=\"top\">0</th>\n",
       "      <th>about_to_sleep</th>\n",
       "      <td>52.37</td>\n",
       "      <td>1.00</td>\n",
       "      <td>336.46</td>\n",
       "    </tr>\n",
       "    <tr>\n",
       "      <th>at_Risk</th>\n",
       "      <td>165.65</td>\n",
       "      <td>2.82</td>\n",
       "      <td>1480.93</td>\n",
       "    </tr>\n",
       "    <tr>\n",
       "      <th>cant_loose</th>\n",
       "      <td>135.42</td>\n",
       "      <td>8.92</td>\n",
       "      <td>2775.26</td>\n",
       "    </tr>\n",
       "    <tr>\n",
       "      <th>champions</th>\n",
       "      <td>6.96</td>\n",
       "      <td>13.49</td>\n",
       "      <td>7304.46</td>\n",
       "    </tr>\n",
       "    <tr>\n",
       "      <th>hibernating</th>\n",
       "      <td>222.38</td>\n",
       "      <td>1.00</td>\n",
       "      <td>331.13</td>\n",
       "    </tr>\n",
       "    <tr>\n",
       "      <th>loyal_customers</th>\n",
       "      <td>35.87</td>\n",
       "      <td>6.74</td>\n",
       "      <td>2562.75</td>\n",
       "    </tr>\n",
       "    <tr>\n",
       "      <th>need_attention</th>\n",
       "      <td>52.19</td>\n",
       "      <td>2.40</td>\n",
       "      <td>735.55</td>\n",
       "    </tr>\n",
       "    <tr>\n",
       "      <th>new_customers</th>\n",
       "      <td>7.75</td>\n",
       "      <td>1.00</td>\n",
       "      <td>651.72</td>\n",
       "    </tr>\n",
       "    <tr>\n",
       "      <th>potential_loyalists</th>\n",
       "      <td>17.19</td>\n",
       "      <td>2.25</td>\n",
       "      <td>792.15</td>\n",
       "    </tr>\n",
       "    <tr>\n",
       "      <th>promising</th>\n",
       "      <td>23.97</td>\n",
       "      <td>1.00</td>\n",
       "      <td>277.57</td>\n",
       "    </tr>\n",
       "    <tr>\n",
       "      <th rowspan=\"10\" valign=\"top\">1</th>\n",
       "      <th>about_to_sleep</th>\n",
       "      <td>55.27</td>\n",
       "      <td>1.42</td>\n",
       "      <td>750.58</td>\n",
       "    </tr>\n",
       "    <tr>\n",
       "      <th>at_Risk</th>\n",
       "      <td>115.28</td>\n",
       "      <td>3.55</td>\n",
       "      <td>1450.53</td>\n",
       "    </tr>\n",
       "    <tr>\n",
       "      <th>cant_loose</th>\n",
       "      <td>158.62</td>\n",
       "      <td>7.00</td>\n",
       "      <td>4280.72</td>\n",
       "    </tr>\n",
       "    <tr>\n",
       "      <th>champions</th>\n",
       "      <td>6.12</td>\n",
       "      <td>13.88</td>\n",
       "      <td>5439.03</td>\n",
       "    </tr>\n",
       "    <tr>\n",
       "      <th>hibernating</th>\n",
       "      <td>206.72</td>\n",
       "      <td>1.28</td>\n",
       "      <td>879.03</td>\n",
       "    </tr>\n",
       "    <tr>\n",
       "      <th>loyal_customers</th>\n",
       "      <td>31.86</td>\n",
       "      <td>7.30</td>\n",
       "      <td>5037.82</td>\n",
       "    </tr>\n",
       "    <tr>\n",
       "      <th>need_attention</th>\n",
       "      <td>52.62</td>\n",
       "      <td>3.00</td>\n",
       "      <td>2281.44</td>\n",
       "    </tr>\n",
       "    <tr>\n",
       "      <th>new_customers</th>\n",
       "      <td>7.22</td>\n",
       "      <td>1.00</td>\n",
       "      <td>316.04</td>\n",
       "    </tr>\n",
       "    <tr>\n",
       "      <th>potential_loyalists</th>\n",
       "      <td>17.01</td>\n",
       "      <td>2.41</td>\n",
       "      <td>987.07</td>\n",
       "    </tr>\n",
       "    <tr>\n",
       "      <th>promising</th>\n",
       "      <td>23.23</td>\n",
       "      <td>1.00</td>\n",
       "      <td>347.70</td>\n",
       "    </tr>\n",
       "    <tr>\n",
       "      <th rowspan=\"8\" valign=\"top\">2</th>\n",
       "      <th>about_to_sleep</th>\n",
       "      <td>51.76</td>\n",
       "      <td>1.00</td>\n",
       "      <td>294.30</td>\n",
       "    </tr>\n",
       "    <tr>\n",
       "      <th>at_Risk</th>\n",
       "      <td>159.66</td>\n",
       "      <td>2.73</td>\n",
       "      <td>791.58</td>\n",
       "    </tr>\n",
       "    <tr>\n",
       "      <th>cant_loose</th>\n",
       "      <td>156.21</td>\n",
       "      <td>9.29</td>\n",
       "      <td>2320.34</td>\n",
       "    </tr>\n",
       "    <tr>\n",
       "      <th>champions</th>\n",
       "      <td>6.11</td>\n",
       "      <td>12.37</td>\n",
       "      <td>9037.83</td>\n",
       "    </tr>\n",
       "    <tr>\n",
       "      <th>hibernating</th>\n",
       "      <td>228.99</td>\n",
       "      <td>1.00</td>\n",
       "      <td>305.61</td>\n",
       "    </tr>\n",
       "    <tr>\n",
       "      <th>loyal_customers</th>\n",
       "      <td>33.84</td>\n",
       "      <td>6.11</td>\n",
       "      <td>2045.75</td>\n",
       "    </tr>\n",
       "    <tr>\n",
       "      <th>need_attention</th>\n",
       "      <td>49.16</td>\n",
       "      <td>2.00</td>\n",
       "      <td>601.39</td>\n",
       "    </tr>\n",
       "    <tr>\n",
       "      <th>potential_loyalists</th>\n",
       "      <td>17.56</td>\n",
       "      <td>1.54</td>\n",
       "      <td>410.84</td>\n",
       "    </tr>\n",
       "    <tr>\n",
       "      <th rowspan=\"10\" valign=\"top\">3</th>\n",
       "      <th>about_to_sleep</th>\n",
       "      <td>52.26</td>\n",
       "      <td>1.24</td>\n",
       "      <td>444.38</td>\n",
       "    </tr>\n",
       "    <tr>\n",
       "      <th>at_Risk</th>\n",
       "      <td>154.97</td>\n",
       "      <td>2.84</td>\n",
       "      <td>1002.22</td>\n",
       "    </tr>\n",
       "    <tr>\n",
       "      <th>cant_loose</th>\n",
       "      <td>108.46</td>\n",
       "      <td>7.38</td>\n",
       "      <td>2241.67</td>\n",
       "    </tr>\n",
       "    <tr>\n",
       "      <th>champions</th>\n",
       "      <td>6.44</td>\n",
       "      <td>12.40</td>\n",
       "      <td>8070.12</td>\n",
       "    </tr>\n",
       "    <tr>\n",
       "      <th>hibernating</th>\n",
       "      <td>218.38</td>\n",
       "      <td>1.13</td>\n",
       "      <td>390.40</td>\n",
       "    </tr>\n",
       "    <tr>\n",
       "      <th>loyal_customers</th>\n",
       "      <td>31.29</td>\n",
       "      <td>6.58</td>\n",
       "      <td>2483.68</td>\n",
       "    </tr>\n",
       "    <tr>\n",
       "      <th>need_attention</th>\n",
       "      <td>55.33</td>\n",
       "      <td>2.44</td>\n",
       "      <td>890.56</td>\n",
       "    </tr>\n",
       "    <tr>\n",
       "      <th>new_customers</th>\n",
       "      <td>7.42</td>\n",
       "      <td>1.00</td>\n",
       "      <td>232.96</td>\n",
       "    </tr>\n",
       "    <tr>\n",
       "      <th>potential_loyalists</th>\n",
       "      <td>16.56</td>\n",
       "      <td>2.40</td>\n",
       "      <td>847.68</td>\n",
       "    </tr>\n",
       "    <tr>\n",
       "      <th>promising</th>\n",
       "      <td>23.22</td>\n",
       "      <td>1.00</td>\n",
       "      <td>254.28</td>\n",
       "    </tr>\n",
       "    <tr>\n",
       "      <th rowspan=\"8\" valign=\"top\">4</th>\n",
       "      <th>about_to_sleep</th>\n",
       "      <td>53.73</td>\n",
       "      <td>1.00</td>\n",
       "      <td>370.65</td>\n",
       "    </tr>\n",
       "    <tr>\n",
       "      <th>at_Risk</th>\n",
       "      <td>153.53</td>\n",
       "      <td>2.78</td>\n",
       "      <td>852.87</td>\n",
       "    </tr>\n",
       "    <tr>\n",
       "      <th>cant_loose</th>\n",
       "      <td>117.88</td>\n",
       "      <td>8.69</td>\n",
       "      <td>2936.40</td>\n",
       "    </tr>\n",
       "    <tr>\n",
       "      <th>champions</th>\n",
       "      <td>6.30</td>\n",
       "      <td>10.11</td>\n",
       "      <td>4252.10</td>\n",
       "    </tr>\n",
       "    <tr>\n",
       "      <th>hibernating</th>\n",
       "      <td>217.14</td>\n",
       "      <td>1.00</td>\n",
       "      <td>345.33</td>\n",
       "    </tr>\n",
       "    <tr>\n",
       "      <th>loyal_customers</th>\n",
       "      <td>34.59</td>\n",
       "      <td>5.95</td>\n",
       "      <td>2510.58</td>\n",
       "    </tr>\n",
       "    <tr>\n",
       "      <th>need_attention</th>\n",
       "      <td>51.03</td>\n",
       "      <td>2.00</td>\n",
       "      <td>776.84</td>\n",
       "    </tr>\n",
       "    <tr>\n",
       "      <th>potential_loyalists</th>\n",
       "      <td>18.57</td>\n",
       "      <td>1.58</td>\n",
       "      <td>2301.45</td>\n",
       "    </tr>\n",
       "  </tbody>\n",
       "</table>\n",
       "</div>"
      ],
      "text/plain": [
       "                             recency frequency monetary\n",
       "                                mean      mean     mean\n",
       "clusters segment                                       \n",
       "0        about_to_sleep        52.37      1.00   336.46\n",
       "         at_Risk              165.65      2.82  1480.93\n",
       "         cant_loose           135.42      8.92  2775.26\n",
       "         champions              6.96     13.49  7304.46\n",
       "         hibernating          222.38      1.00   331.13\n",
       "         loyal_customers       35.87      6.74  2562.75\n",
       "         need_attention        52.19      2.40   735.55\n",
       "         new_customers          7.75      1.00   651.72\n",
       "         potential_loyalists   17.19      2.25   792.15\n",
       "         promising             23.97      1.00   277.57\n",
       "1        about_to_sleep        55.27      1.42   750.58\n",
       "         at_Risk              115.28      3.55  1450.53\n",
       "         cant_loose           158.62      7.00  4280.72\n",
       "         champions              6.12     13.88  5439.03\n",
       "         hibernating          206.72      1.28   879.03\n",
       "         loyal_customers       31.86      7.30  5037.82\n",
       "         need_attention        52.62      3.00  2281.44\n",
       "         new_customers          7.22      1.00   316.04\n",
       "         potential_loyalists   17.01      2.41   987.07\n",
       "         promising             23.23      1.00   347.70\n",
       "2        about_to_sleep        51.76      1.00   294.30\n",
       "         at_Risk              159.66      2.73   791.58\n",
       "         cant_loose           156.21      9.29  2320.34\n",
       "         champions              6.11     12.37  9037.83\n",
       "         hibernating          228.99      1.00   305.61\n",
       "         loyal_customers       33.84      6.11  2045.75\n",
       "         need_attention        49.16      2.00   601.39\n",
       "         potential_loyalists   17.56      1.54   410.84\n",
       "3        about_to_sleep        52.26      1.24   444.38\n",
       "         at_Risk              154.97      2.84  1002.22\n",
       "         cant_loose           108.46      7.38  2241.67\n",
       "         champions              6.44     12.40  8070.12\n",
       "         hibernating          218.38      1.13   390.40\n",
       "         loyal_customers       31.29      6.58  2483.68\n",
       "         need_attention        55.33      2.44   890.56\n",
       "         new_customers          7.42      1.00   232.96\n",
       "         potential_loyalists   16.56      2.40   847.68\n",
       "         promising             23.22      1.00   254.28\n",
       "4        about_to_sleep        53.73      1.00   370.65\n",
       "         at_Risk              153.53      2.78   852.87\n",
       "         cant_loose           117.88      8.69  2936.40\n",
       "         champions              6.30     10.11  4252.10\n",
       "         hibernating          217.14      1.00   345.33\n",
       "         loyal_customers       34.59      5.95  2510.58\n",
       "         need_attention        51.03      2.00   776.84\n",
       "         potential_loyalists   18.57      1.58  2301.45"
      ]
     },
     "execution_count": 30,
     "metadata": {},
     "output_type": "execute_result"
    }
   ],
   "source": [
    "segmentation = rfm.merge(segment_df, on=\"Customer ID\")\n",
    "segmentation[[\"segment\", \"clusters\", \"recency\", \"frequency\", \"monetary\"]].groupby([\"clusters\", \"segment\"]).agg([\"mean\"])"
   ]
  },
  {
   "cell_type": "code",
   "execution_count": 31,
   "id": "wanted-dominican",
   "metadata": {
    "execution": {
     "iopub.execute_input": "2021-07-28T13:38:59.557987Z",
     "iopub.status.busy": "2021-07-28T13:38:59.557390Z",
     "iopub.status.idle": "2021-07-28T13:38:59.572601Z",
     "shell.execute_reply": "2021-07-28T13:38:59.571964Z",
     "shell.execute_reply.started": "2021-07-28T13:24:22.688929Z"
    },
    "papermill": {
     "duration": 0.066129,
     "end_time": "2021-07-28T13:38:59.572760",
     "exception": false,
     "start_time": "2021-07-28T13:38:59.506631",
     "status": "completed"
    },
    "tags": []
   },
   "outputs": [
    {
     "data": {
      "text/html": [
       "<div>\n",
       "<style scoped>\n",
       "    .dataframe tbody tr th:only-of-type {\n",
       "        vertical-align: middle;\n",
       "    }\n",
       "\n",
       "    .dataframe tbody tr th {\n",
       "        vertical-align: top;\n",
       "    }\n",
       "\n",
       "    .dataframe thead th {\n",
       "        text-align: right;\n",
       "    }\n",
       "</style>\n",
       "<table border=\"1\" class=\"dataframe\">\n",
       "  <thead>\n",
       "    <tr style=\"text-align: right;\">\n",
       "      <th></th>\n",
       "      <th></th>\n",
       "      <th>segment</th>\n",
       "    </tr>\n",
       "    <tr>\n",
       "      <th>clusters</th>\n",
       "      <th>segment</th>\n",
       "      <th></th>\n",
       "    </tr>\n",
       "  </thead>\n",
       "  <tbody>\n",
       "    <tr>\n",
       "      <th rowspan=\"10\" valign=\"top\">0</th>\n",
       "      <th>about_to_sleep</th>\n",
       "      <td>67</td>\n",
       "    </tr>\n",
       "    <tr>\n",
       "      <th>at_Risk</th>\n",
       "      <td>141</td>\n",
       "    </tr>\n",
       "    <tr>\n",
       "      <th>cant_loose</th>\n",
       "      <td>12</td>\n",
       "    </tr>\n",
       "    <tr>\n",
       "      <th>champions</th>\n",
       "      <td>102</td>\n",
       "    </tr>\n",
       "    <tr>\n",
       "      <th>hibernating</th>\n",
       "      <td>202</td>\n",
       "    </tr>\n",
       "    <tr>\n",
       "      <th>loyal_customers</th>\n",
       "      <td>152</td>\n",
       "    </tr>\n",
       "    <tr>\n",
       "      <th>need_attention</th>\n",
       "      <td>53</td>\n",
       "    </tr>\n",
       "    <tr>\n",
       "      <th>new_customers</th>\n",
       "      <td>12</td>\n",
       "    </tr>\n",
       "    <tr>\n",
       "      <th>potential_loyalists</th>\n",
       "      <td>97</td>\n",
       "    </tr>\n",
       "    <tr>\n",
       "      <th>promising</th>\n",
       "      <td>36</td>\n",
       "    </tr>\n",
       "    <tr>\n",
       "      <th rowspan=\"10\" valign=\"top\">1</th>\n",
       "      <th>about_to_sleep</th>\n",
       "      <td>96</td>\n",
       "    </tr>\n",
       "    <tr>\n",
       "      <th>at_Risk</th>\n",
       "      <td>67</td>\n",
       "    </tr>\n",
       "    <tr>\n",
       "      <th>cant_loose</th>\n",
       "      <td>8</td>\n",
       "    </tr>\n",
       "    <tr>\n",
       "      <th>champions</th>\n",
       "      <td>128</td>\n",
       "    </tr>\n",
       "    <tr>\n",
       "      <th>hibernating</th>\n",
       "      <td>289</td>\n",
       "    </tr>\n",
       "    <tr>\n",
       "      <th>loyal_customers</th>\n",
       "      <td>145</td>\n",
       "    </tr>\n",
       "    <tr>\n",
       "      <th>need_attention</th>\n",
       "      <td>16</td>\n",
       "    </tr>\n",
       "    <tr>\n",
       "      <th>new_customers</th>\n",
       "      <td>18</td>\n",
       "    </tr>\n",
       "    <tr>\n",
       "      <th>potential_loyalists</th>\n",
       "      <td>98</td>\n",
       "    </tr>\n",
       "    <tr>\n",
       "      <th>promising</th>\n",
       "      <td>31</td>\n",
       "    </tr>\n",
       "    <tr>\n",
       "      <th rowspan=\"8\" valign=\"top\">2</th>\n",
       "      <th>about_to_sleep</th>\n",
       "      <td>50</td>\n",
       "    </tr>\n",
       "    <tr>\n",
       "      <th>at_Risk</th>\n",
       "      <td>137</td>\n",
       "    </tr>\n",
       "    <tr>\n",
       "      <th>cant_loose</th>\n",
       "      <td>14</td>\n",
       "    </tr>\n",
       "    <tr>\n",
       "      <th>champions</th>\n",
       "      <td>129</td>\n",
       "    </tr>\n",
       "    <tr>\n",
       "      <th>hibernating</th>\n",
       "      <td>185</td>\n",
       "    </tr>\n",
       "    <tr>\n",
       "      <th>loyal_customers</th>\n",
       "      <td>174</td>\n",
       "    </tr>\n",
       "    <tr>\n",
       "      <th>need_attention</th>\n",
       "      <td>31</td>\n",
       "    </tr>\n",
       "    <tr>\n",
       "      <th>potential_loyalists</th>\n",
       "      <td>114</td>\n",
       "    </tr>\n",
       "    <tr>\n",
       "      <th rowspan=\"10\" valign=\"top\">3</th>\n",
       "      <th>about_to_sleep</th>\n",
       "      <td>72</td>\n",
       "    </tr>\n",
       "    <tr>\n",
       "      <th>at_Risk</th>\n",
       "      <td>115</td>\n",
       "    </tr>\n",
       "    <tr>\n",
       "      <th>cant_loose</th>\n",
       "      <td>13</td>\n",
       "    </tr>\n",
       "    <tr>\n",
       "      <th>champions</th>\n",
       "      <td>149</td>\n",
       "    </tr>\n",
       "    <tr>\n",
       "      <th>hibernating</th>\n",
       "      <td>210</td>\n",
       "    </tr>\n",
       "    <tr>\n",
       "      <th>loyal_customers</th>\n",
       "      <td>143</td>\n",
       "    </tr>\n",
       "    <tr>\n",
       "      <th>need_attention</th>\n",
       "      <td>54</td>\n",
       "    </tr>\n",
       "    <tr>\n",
       "      <th>new_customers</th>\n",
       "      <td>12</td>\n",
       "    </tr>\n",
       "    <tr>\n",
       "      <th>potential_loyalists</th>\n",
       "      <td>82</td>\n",
       "    </tr>\n",
       "    <tr>\n",
       "      <th>promising</th>\n",
       "      <td>27</td>\n",
       "    </tr>\n",
       "    <tr>\n",
       "      <th rowspan=\"8\" valign=\"top\">4</th>\n",
       "      <th>about_to_sleep</th>\n",
       "      <td>67</td>\n",
       "    </tr>\n",
       "    <tr>\n",
       "      <th>at_Risk</th>\n",
       "      <td>133</td>\n",
       "    </tr>\n",
       "    <tr>\n",
       "      <th>cant_loose</th>\n",
       "      <td>16</td>\n",
       "    </tr>\n",
       "    <tr>\n",
       "      <th>champions</th>\n",
       "      <td>125</td>\n",
       "    </tr>\n",
       "    <tr>\n",
       "      <th>hibernating</th>\n",
       "      <td>185</td>\n",
       "    </tr>\n",
       "    <tr>\n",
       "      <th>loyal_customers</th>\n",
       "      <td>205</td>\n",
       "    </tr>\n",
       "    <tr>\n",
       "      <th>need_attention</th>\n",
       "      <td>33</td>\n",
       "    </tr>\n",
       "    <tr>\n",
       "      <th>potential_loyalists</th>\n",
       "      <td>93</td>\n",
       "    </tr>\n",
       "  </tbody>\n",
       "</table>\n",
       "</div>"
      ],
      "text/plain": [
       "                              segment\n",
       "clusters segment                     \n",
       "0        about_to_sleep            67\n",
       "         at_Risk                  141\n",
       "         cant_loose                12\n",
       "         champions                102\n",
       "         hibernating              202\n",
       "         loyal_customers          152\n",
       "         need_attention            53\n",
       "         new_customers             12\n",
       "         potential_loyalists       97\n",
       "         promising                 36\n",
       "1        about_to_sleep            96\n",
       "         at_Risk                   67\n",
       "         cant_loose                 8\n",
       "         champions                128\n",
       "         hibernating              289\n",
       "         loyal_customers          145\n",
       "         need_attention            16\n",
       "         new_customers             18\n",
       "         potential_loyalists       98\n",
       "         promising                 31\n",
       "2        about_to_sleep            50\n",
       "         at_Risk                  137\n",
       "         cant_loose                14\n",
       "         champions                129\n",
       "         hibernating              185\n",
       "         loyal_customers          174\n",
       "         need_attention            31\n",
       "         potential_loyalists      114\n",
       "3        about_to_sleep            72\n",
       "         at_Risk                  115\n",
       "         cant_loose                13\n",
       "         champions                149\n",
       "         hibernating              210\n",
       "         loyal_customers          143\n",
       "         need_attention            54\n",
       "         new_customers             12\n",
       "         potential_loyalists       82\n",
       "         promising                 27\n",
       "4        about_to_sleep            67\n",
       "         at_Risk                  133\n",
       "         cant_loose                16\n",
       "         champions                125\n",
       "         hibernating              185\n",
       "         loyal_customers          205\n",
       "         need_attention            33\n",
       "         potential_loyalists       93"
      ]
     },
     "execution_count": 31,
     "metadata": {},
     "output_type": "execute_result"
    }
   ],
   "source": [
    "pd.DataFrame(segmentation[[\"segment\", \"clusters\"]].groupby([\"clusters\", \"segment\"])[\"segment\"].agg(\"count\"))"
   ]
  }
 ],
 "metadata": {
  "kernelspec": {
   "display_name": "Python 3",
   "language": "python",
   "name": "python3"
  },
  "language_info": {
   "codemirror_mode": {
    "name": "ipython",
    "version": 3
   },
   "file_extension": ".py",
   "mimetype": "text/x-python",
   "name": "python",
   "nbconvert_exporter": "python",
   "pygments_lexer": "ipython3",
   "version": "3.7.10"
  },
  "papermill": {
   "default_parameters": {},
   "duration": 160.752074,
   "end_time": "2021-07-28T13:39:00.428219",
   "environment_variables": {},
   "exception": null,
   "input_path": "__notebook__.ipynb",
   "output_path": "__notebook__.ipynb",
   "parameters": {},
   "start_time": "2021-07-28T13:36:19.676145",
   "version": "2.3.3"
  }
 },
 "nbformat": 4,
 "nbformat_minor": 5
}
